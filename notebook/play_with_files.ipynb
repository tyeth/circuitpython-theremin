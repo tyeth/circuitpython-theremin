{
 "cells": [
  {
   "cell_type": "code",
   "execution_count": null,
   "metadata": {},
   "outputs": [],
   "source": [
    "inputfile=\"tof_data/20230822_0932_qtpy_dual_VL53L5CX/99956970227.csv\"\n",
    "\n",
    "import pandas as pd\n",
    "import json\n",
    "import os\n",
    "import numpy as np\n",
    "\n",
    "# read file, each line is a timestamp separated by a comma followed by a json dump of an array of numpy ndarray's.\n",
    "# The json dump is a list of and unknown quanitity of arrays, each array is a 8x8 matrix of uint16 representing distance."
   ]
  }
 ],
 "metadata": {
  "language_info": {
   "name": "python"
  },
  "orig_nbformat": 4
 },
 "nbformat": 4,
 "nbformat_minor": 2
}
